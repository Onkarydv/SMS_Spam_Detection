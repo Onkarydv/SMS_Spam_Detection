{
 "cells": [
  {
   "cell_type": "code",
   "execution_count": 1,
   "id": "169d0e24-e057-4144-abc4-80b82a78e7f7",
   "metadata": {},
   "outputs": [
    {
     "name": "stdout",
     "output_type": "stream",
     "text": [
      "Model Accuracy: 100.00%\n",
      "Welcome to SMS Spam Detection System!\n"
     ]
    },
    {
     "name": "stdin",
     "output_type": "stream",
     "text": [
      "Enter an SMS (or type 'exit' to quit):  Hey, are we still meeting at 6 PM? \n"
     ]
    },
    {
     "name": "stdout",
     "output_type": "stream",
     "text": [
      "The message is classified as: HAM\n"
     ]
    },
    {
     "name": "stdin",
     "output_type": "stream",
     "text": [
      "Enter an SMS (or type 'exit' to quit):  Congratulation! You have won a $1000 gift card. Call now to claim your prize!\n"
     ]
    },
    {
     "name": "stdout",
     "output_type": "stream",
     "text": [
      "The message is classified as: SPAM\n"
     ]
    },
    {
     "name": "stdin",
     "output_type": "stream",
     "text": [
      "Enter an SMS (or type 'exit' to quit):  exit\n"
     ]
    },
    {
     "name": "stdout",
     "output_type": "stream",
     "text": [
      "Goodbye!\n"
     ]
    }
   ],
   "source": [
    "import pandas as pd\n",
    "from sklearn.feature_extraction.text import CountVectorizer\n",
    "from sklearn.model_selection import train_test_split\n",
    "from sklearn.naive_bayes import MultinomialNB\n",
    "from sklearn.metrics import accuracy_score\n",
    "\n",
    "# Load dataset\n",
    "def load_data():\n",
    "    # Example dataset\n",
    "    data = {\n",
    "        'text': [\n",
    "            'Free entry in 2 a wkly comp to win FA Cup final tkts 21st May 2005 Text FA to 87121 to receive entry question(std txt rate)',\n",
    "            'Hey, are we still meeting later?',\n",
    "            'Win cash prizes up to $5000. Text WIN to 12345 now!',\n",
    "            'Can you send me the notes from yesterday’s lecture?',\n",
    "            'Congratulations! You have won a $1000 Walmart gift card. Call now!',\n",
    "            'Let’s catch up for coffee tomorrow.',\n",
    "            'URGENT! Your mobile number has won £2000. Reply YES to claim your prize.',\n",
    "            'Just checking in, hope you’re doing well.'\n",
    "        ],\n",
    "        'label': ['spam', 'ham', 'spam', 'ham', 'spam', 'ham', 'spam', 'ham']\n",
    "    }\n",
    "    return pd.DataFrame(data)\n",
    "\n",
    "# Preprocessing and model training\n",
    "def train_model(data):\n",
    "    vectorizer = CountVectorizer(stop_words='english')\n",
    "    X = vectorizer.fit_transform(data['text'])\n",
    "    y = data['label']\n",
    "\n",
    "    X_train, X_test, y_train, y_test = train_test_split(X, y, test_size=0.25, random_state=42)\n",
    "    model = MultinomialNB()\n",
    "    model.fit(X_train, y_train)\n",
    "\n",
    "    y_pred = model.predict(X_test)\n",
    "    print(f\"Model Accuracy: {accuracy_score(y_test, y_pred) * 100:.2f}%\")\n",
    "\n",
    "    return model, vectorizer\n",
    "\n",
    "# Detect spam/ham\n",
    "def predict_message(model, vectorizer, message):\n",
    "    message_vector = vectorizer.transform([message])\n",
    "    prediction = model.predict(message_vector)[0]\n",
    "    return prediction\n",
    "\n",
    "# Main program\n",
    "if __name__ == \"__main__\":\n",
    "    data = load_data()\n",
    "    model, vectorizer = train_model(data)\n",
    "\n",
    "    print(\"Welcome to SMS Spam Detection System!\")\n",
    "    while True:\n",
    "        user_input = input(\"Enter an SMS (or type 'exit' to quit): \")\n",
    "        if user_input.lower() == 'exit':\n",
    "            print(\"Goodbye!\")\n",
    "            break\n",
    "        prediction = predict_message(model, vectorizer, user_input)\n",
    "        print(f\"The message is classified as: {prediction.upper()}\")\n"
   ]
  },
  {
   "cell_type": "code",
   "execution_count": null,
   "id": "feb29e55-573b-4426-8084-83f8931d14d4",
   "metadata": {},
   "outputs": [],
   "source": []
  }
 ],
 "metadata": {
  "kernelspec": {
   "display_name": "Python 3 (ipykernel)",
   "language": "python",
   "name": "python3"
  },
  "language_info": {
   "codemirror_mode": {
    "name": "ipython",
    "version": 3
   },
   "file_extension": ".py",
   "mimetype": "text/x-python",
   "name": "python",
   "nbconvert_exporter": "python",
   "pygments_lexer": "ipython3",
   "version": "3.12.4"
  }
 },
 "nbformat": 4,
 "nbformat_minor": 5
}
